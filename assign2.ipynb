{
  "nbformat": 4,
  "nbformat_minor": 0,
  "metadata": {
    "colab": {
      "provenance": []
    },
    "kernelspec": {
      "name": "python3",
      "display_name": "Python 3"
    },
    "language_info": {
      "name": "python"
    }
  },
  "cells": [
    {
      "cell_type": "code",
      "source": [
        "#Question no 1\n",
        "import numpy as np\n",
        "import math\n",
        "\n",
        "# Define vectors with descriptive variable names\n",
        "vector_r1 = np.array([100, 0])\n",
        "vector_r2 = np.array([0, -300])\n",
        "\n",
        "# Calculate components of vectors r3 and r4\n",
        "magnitude_r3 = 150\n",
        "angle_r3 = 30\n",
        "magnitude_r4 = 200\n",
        "angle_r4 = 60\n",
        "\n",
        "# Calculate components of vectors r3 and r4\n",
        "vector_r3 = np.array([-magnitude_r3 * math.cos(math.radians(angle_r3)), -magnitude_r3 * math.sin(math.radians(angle_r3))])\n",
        "vector_r4 = np.array([-magnitude_r4 * math.cos(math.radians(angle_r4)), magnitude_r4 * math.sin(math.radians(angle_r4))])\n",
        "\n",
        "# Calculate the resultant vector\n",
        "vector_resultant = vector_r1 + vector_r2 + vector_r3 + vector_r4\n",
        "\n",
        "# Calculate the magnitude of the resultant vector\n",
        "magnitude_resultant = np.linalg.norm(vector_resultant)\n",
        "\n",
        "# Calculate the direction (angle with the positive x-axis)\n",
        "angle_resultant = np.degrees(np.arctan2(vector_resultant[1], vector_resultant[0]))\n",
        "\n",
        "# Adjust the angle to be measured clockwise from the negative x-axis\n",
        "if angle_resultant < 0:\n",
        "    angle_resultant += 360\n",
        "\n",
        "# Direction relative to the negative x-axis\n",
        "direction_from_negative_x_axis = angle_resultant - 180 if angle_resultant > 180 else angle_resultant\n",
        "\n",
        "# Print the results\n",
        "print(f\"Resultant Displacement Vector: {vector_resultant}\")\n",
        "print(f\"Magnitude: {magnitude_resultant:.2f} meters\")\n",
        "print(f\"Direction from negative x-axis: {direction_from_negative_x_axis:.2f} degrees\")\n",
        "\n"
      ],
      "metadata": {
        "colab": {
          "base_uri": "https://localhost:8080/"
        },
        "id": "4RrjFjMAvTYP",
        "outputId": "01e7bd70-9819-4ebd-d61a-7182c1616ff4"
      },
      "execution_count": 1,
      "outputs": [
        {
          "output_type": "stream",
          "name": "stdout",
          "text": [
            "Resultant Displacement Vector: [-129.90381057 -201.79491924]\n",
            "Magnitude: 239.99 meters\n",
            "Direction from negative x-axis: 57.23 degrees\n"
          ]
        }
      ]
    },
    {
      "cell_type": "code",
      "source": [
        "#Question no 3\n",
        "import math\n",
        "\n",
        "# Constants\n",
        "earth_radius = 6.37 * 10**6  # Radius of Earth in meters\n",
        "ecotourist_latitude = 0.00243  # Latitude of ecotourists' location in degrees south\n",
        "ecotourist_longitude = 75.64238  # Longitude of ecotourists' location in degrees west\n",
        "tree_latitude = 0.00162  # Latitude of tree in degrees north\n",
        "tree_longitude = 75.64426  # Longitude of tree in degrees west\n",
        "\n",
        "# Convert degrees to radians\n",
        "ecotourist_lat_rad = math.radians(ecotourist_latitude)\n",
        "ecotourist_lon_rad = math.radians(ecotourist_longitude)\n",
        "tree_lat_rad = math.radians(tree_latitude)\n",
        "tree_lon_rad = math.radians(tree_longitude)\n",
        "\n",
        "# Calculate displacement components\n",
        "westward_distance = (tree_longitude - ecotourist_longitude) * math.pi * earth_radius * math.cos(ecotourist_lat_rad) / 180\n",
        "northward_distance = (tree_latitude + ecotourist_latitude) * math.pi * earth_radius / 180\n",
        "\n",
        "# Calculate total distance\n",
        "total_distance = math.sqrt(westward_distance**2 + northward_distance**2)\n",
        "\n",
        "# Calculate direction\n",
        "direction = math.degrees(math.atan2(northward_distance, westward_distance))\n",
        "\n",
        "# Print results\n",
        "print(\"Straight-line distance to tree: {:.2f} meters\".format(total_distance))\n",
        "print(\"Direction to walk: {:.2f} degrees north of west\".format(direction))\n"
      ],
      "metadata": {
        "colab": {
          "base_uri": "https://localhost:8080/"
        },
        "id": "8F2OS9zGvYln",
        "outputId": "0ffa753b-0366-4c15-9bfa-0fbe662d0287"
      },
      "execution_count": 3,
      "outputs": [
        {
          "output_type": "stream",
          "name": "stdout",
          "text": [
            "Straight-line distance to tree: 496.42 meters\n",
            "Direction to walk: 65.10 degrees north of west\n"
          ]
        }
      ]
    }
  ]
}